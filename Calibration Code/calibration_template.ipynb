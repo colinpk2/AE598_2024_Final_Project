{
 "cells": [
  {
   "cell_type": "markdown",
   "metadata": {},
   "source": [
    "# Summary of Methods and Findings"
   ]
  },
  {
   "cell_type": "markdown",
   "metadata": {},
   "source": [
    "The following notebook uses a template with a grid of april tags to calibrate a camera. The idea is to calculate the intrinsic and extrinsic parameters of the camera using the known values of the corners from the calibration tag grid then to use the calculated value as the initial guess for symforce's numerical optimizer by projecting points back onto the image using the calculated value and minimizing the error between the projected point and the known point to refine the calculated values of the intrinsic and extrinsic parameters of the camera. Overall, the results were good but there are many points, especially towards the edges, that do not track well. If tracked dots are going to be used as data, those errors will grow very large so a more robust estimation for the intial guess must be used."
   ]
  },
  {
   "cell_type": "markdown",
   "metadata": {},
   "source": [
    "# Set up notebook"
   ]
  },
  {
   "cell_type": "code",
   "execution_count": 1,
   "metadata": {},
   "outputs": [],
   "source": [
    "# For input/output\n",
    "from pathlib import Path\n",
    "import json\n",
    "\n",
    "# For numerical methods\n",
    "import numpy as np\n",
    "\n",
    "# For image processing and visualization of results\n",
    "import cv2\n",
    "from pupil_apriltags import Detector\n",
    "import matplotlib.pyplot as plt\n",
    "\n",
    "# For optimization with symforce\n",
    "import symforce\n",
    "symforce.set_epsilon_to_symbol()\n",
    "import symforce.symbolic as sf\n",
    "from symforce.values import Values\n",
    "from symforce.opt.factor import Factor\n",
    "from symforce.opt.optimizer import Optimizer\n",
    "import sym\n",
    "\n",
    "from PIL import Image"
   ]
  },
  {
   "cell_type": "markdown",
   "metadata": {},
   "source": [
    "Initilizing image and template directories"
   ]
  },
  {
   "cell_type": "code",
   "execution_count": 2,
   "metadata": {},
   "outputs": [],
   "source": [
    "# Base directory\n",
    "data_dir = Path('data')\n",
    "\n",
    "# Where images are read from\n",
    "img_src_dir = Path(data_dir, 'calibration_images')\n",
    "\n",
    "# Where images are written to\n",
    "img_dst_dir = Path(data_dir, 'calibration_results')\n",
    "\n",
    "# Where the calibration template is located\n",
    "template_filename = Path(data_dir, 'tag36_11_grid_5x8-template.json')"
   ]
  },
  {
   "cell_type": "markdown",
   "metadata": {},
   "source": [
    "converting images into png format"
   ]
  },
  {
   "cell_type": "code",
   "execution_count": 3,
   "metadata": {},
   "outputs": [],
   "source": [
    "# i = 0\n",
    "# for image_path in img_src_dir.iterdir():\n",
    "#     i += 1\n",
    "#     im = Image.open(image_path)\n",
    "#     im.save('{}.png'.format(i))"
   ]
  },
  {
   "cell_type": "markdown",
   "metadata": {},
   "source": [
    "# Parse images"
   ]
  },
  {
   "cell_type": "markdown",
   "metadata": {},
   "source": [
    "Defining a function to get a tag with a particular ID from the template."
   ]
  },
  {
   "cell_type": "code",
   "execution_count": 4,
   "metadata": {},
   "outputs": [],
   "source": [
    "def get_tag_with_id(tag_id, template):\n",
    "    for tag in template['tags']:\n",
    "        if tag['tag_id'] == tag_id:\n",
    "            return tag\n",
    "    raise Exception(f'tag_id {tag_id} not found in template')"
   ]
  },
  {
   "cell_type": "markdown",
   "metadata": {},
   "source": [
    "Loading tag grid template."
   ]
  },
  {
   "cell_type": "code",
   "execution_count": 5,
   "metadata": {},
   "outputs": [],
   "source": [
    "with open(template_filename, 'r') as f:\n",
    "    template = json.load(f)"
   ]
  },
  {
   "cell_type": "markdown",
   "metadata": {},
   "source": [
    "Creating a tag detector."
   ]
  },
  {
   "cell_type": "code",
   "execution_count": 6,
   "metadata": {},
   "outputs": [],
   "source": [
    "tag_detector = Detector(\n",
    "    families=template['tag_family'],\n",
    "    nthreads=1,\n",
    "    quad_decimate=1.0,\n",
    "    quad_sigma=0.0,\n",
    "    refine_edges=1,\n",
    "    decode_sharpening=0.,\n",
    "    debug=0,\n",
    ")"
   ]
  },
  {
   "cell_type": "markdown",
   "metadata": {},
   "source": [
    "Detecting tags in all images."
   ]
  },
  {
   "cell_type": "code",
   "execution_count": 7,
   "metadata": {},
   "outputs": [
    {
     "name": "stdout",
     "output_type": "stream",
     "text": [
      "   0 : data/calibration_images/20240216_143519.jpg :  40 tags (  0 rejected) : 160 points \n",
      "   1 : data/calibration_images/20240213_121702.jpg :  40 tags (  0 rejected) : 160 points \n",
      "   2 : data/calibration_images/20240213_121701.jpg :  40 tags (  0 rejected) : 160 points \n",
      "   3 : data/calibration_images/20240213_121704.jpg :  40 tags (  0 rejected) : 160 points \n",
      "   4 : data/calibration_images/20240213_121700.jpg :  40 tags (  0 rejected) : 160 points \n",
      "   5 : data/calibration_images/20240216_143510.jpg :  38 tags (  0 rejected) : 152 points \n",
      "   6 : data/calibration_images/20240216_143550.jpg :  40 tags (  0 rejected) : 160 points \n",
      "   7 : data/calibration_images/20240213_121655.jpg :  40 tags (  0 rejected) : 160 points \n",
      "   8 : data/calibration_images/20240213_121703.png :  40 tags (  0 rejected) : 160 points \n",
      "   9 : data/calibration_images/20240213_121658.png :  40 tags (  0 rejected) : 160 points \n",
      "  10 : data/calibration_images/20240213_121701.png :  40 tags (  0 rejected) : 160 points \n"
     ]
    },
    {
     "name": "stderr",
     "output_type": "stream",
     "text": [
      "WRN: Matrix is singular.\n",
      "WRN: Matrix is singular.\n"
     ]
    },
    {
     "name": "stdout",
     "output_type": "stream",
     "text": [
      "  11 : data/calibration_images/20240216_143547.jpg :  40 tags (  0 rejected) : 160 points \n",
      "  12 : data/calibration_images/20240213_121702.png :  40 tags (  0 rejected) : 160 points \n",
      "  13 : data/calibration_images/20240213_121658.jpg :  40 tags (  0 rejected) : 160 points \n",
      "  14 : data/calibration_images/20240213_121703.jpg :  40 tags (  0 rejected) : 160 points \n",
      "  15 : data/calibration_images/20240216_143555.jpg :  40 tags (  0 rejected) : 160 points \n",
      "  16 : data/calibration_images/20240213_121704.png :  40 tags (  0 rejected) : 160 points \n",
      "  17 : data/calibration_images/20240216_143515.jpg :  40 tags (  0 rejected) : 160 points \n",
      "  18 : data/calibration_images/20240216_143517.jpg :  40 tags (  0 rejected) : 160 points \n",
      "  19 : data/calibration_images/20240213_212553.jpg :  40 tags (  0 rejected) : 160 points \n",
      "  20 : data/calibration_images/20240216_143600.jpg :  40 tags (  0 rejected) : 160 points \n",
      "  21 : data/calibration_images/20240216_143508.jpg :  40 tags (  0 rejected) : 160 points \n",
      "  22 : data/calibration_images/20240213_121700.png :  40 tags (  0 rejected) : 160 points \n"
     ]
    }
   ],
   "source": [
    "# Tag corners must be no less than this number of pixels from the image border\n",
    "buffer_px = 10\n",
    "\n",
    "# We are going to create a list of views, one per image\n",
    "views = []\n",
    "\n",
    "# Iterate over all images in the source directory\n",
    "for image_path in img_src_dir.iterdir():\n",
    "    # Skip anything that isn't a PNG file\n",
    "    # or image_path.suffix.lower() != '.jpg')\n",
    "    if (not image_path.is_file()):\n",
    "        continue\n",
    "\n",
    "    # Read image as grayscale\n",
    "    img = cv2.imread(str(image_path), cv2.IMREAD_GRAYSCALE)\n",
    "    \n",
    "    # Detect tags\n",
    "    tag_detections = tag_detector.detect(\n",
    "        img,\n",
    "        estimate_tag_pose=False,\n",
    "        camera_params=None,\n",
    "        tag_size=None,\n",
    "    )\n",
    "\n",
    "    # Get n point correspondences:\n",
    "    #\n",
    "    #  p (n x 3) is coordinates of each point in the tag frame\n",
    "    #  q (n x 2) is coordinates of each point in the image frame\n",
    "    #\n",
    "    rejected_tags = []\n",
    "    tags = []\n",
    "    p = []\n",
    "    q = []\n",
    "    for d in tag_detections:\n",
    "        # Reject tags with corners too close to the image boundary\n",
    "        if ((d.corners[:, 0] < buffer_px).any() or\n",
    "            (d.corners[:, 0] > (img.shape[1] - 1) - buffer_px).any() or\n",
    "            (d.corners[:, 1] < buffer_px).any() or\n",
    "            (d.corners[:, 1] > (img.shape[0] - 1) - buffer_px).any()):\n",
    "            continue\n",
    "        \n",
    "        # Add tag to list of detected tags\n",
    "        tags.append({\n",
    "            'tag_id': d.tag_id,\n",
    "            'corners': d.corners.tolist(),\n",
    "        })\n",
    "\n",
    "        # Add corners of tag to point correspondences\n",
    "        p.extend(get_tag_with_id(d.tag_id, template)['corners'])\n",
    "        q.extend(d.corners.tolist())\n",
    "    \n",
    "    # Make sure the lengths of p and q are consistent\n",
    "    assert(len(p) == len(q))\n",
    "    \n",
    "    # Count the number of tags and correspondences that were found\n",
    "    num_tags = len(tags)\n",
    "    num_points = len(p)\n",
    "\n",
    "    # Add to the list of views\n",
    "    views.append({\n",
    "        'image_name': str(image_path.name),\n",
    "        'num_tags': num_tags,\n",
    "        'tags': tags,\n",
    "        'num_points': num_points,\n",
    "        'p': p,\n",
    "        'q': q,\n",
    "    })\n",
    "    \n",
    "    # Show results\n",
    "    print(f' {len(views) - 1:3d} ' +\n",
    "          f': {str(image_path):30s} ' +\n",
    "          f': {num_tags:3d} tags ({len(rejected_tags):3d} rejected) ' +\n",
    "          f': {num_points:3d} points ')"
   ]
  },
  {
   "cell_type": "markdown",
   "metadata": {},
   "source": [
    "**Estimate Parameters by Inspection was removed"
   ]
  },
  {
   "cell_type": "markdown",
   "metadata": {},
   "source": [
    "# Estimate intrinsic and extrinsic parameters by analysis"
   ]
  },
  {
   "cell_type": "markdown",
   "metadata": {},
   "source": [
    "Define a function that implements the wedge operator (skew symmetric matrix)."
   ]
  },
  {
   "cell_type": "code",
   "execution_count": 8,
   "metadata": {},
   "outputs": [],
   "source": [
    "def skew(v):\n",
    "    assert(type(v) == np.ndarray)\n",
    "    assert(v.shape == (3,))\n",
    "    return np.array([[0., -v[2], v[1]],\n",
    "                     [v[2], 0., -v[0]],\n",
    "                     [-v[1], v[0], 0.]])"
   ]
  },
  {
   "cell_type": "markdown",
   "metadata": {},
   "source": [
    "Define a function to estimate the planar homography (i.e., $H$) between two sets of points. The \"source points\" (`pts_src`) are on the tag grid and are expressed in the coordinates of the world frame. The \"destination points\" (`pts_dst`) are in the image and are expressed in image coordinates."
   ]
  },
  {
   "cell_type": "code",
   "execution_count": 9,
   "metadata": {},
   "outputs": [],
   "source": [
    "def get_homography(p, q):\n",
    "    A = []\n",
    "    n = len(q)\n",
    "    for i in range(n):\n",
    "        u, v, w = q[i]\n",
    "        A.append(np.row_stack((\n",
    "            np.hstack([np.zeros(3), -w*p[i].T, v*p[i].T]),\n",
    "            np.hstack([w*p[i].T, np.zeros(3), -u*p[i].T])\n",
    "        )))\n",
    "    A = np.array(A).reshape((2*n, 9))\n",
    "\n",
    "    U, S, VT = np.linalg.svd(A)\n",
    "    vn = VT[-1].reshape((9,1))\n",
    "    assert(np.allclose(A@vn, np.zeros((2*n,1)), atol=1e-3))\n",
    "    \n",
    "    H = vn.reshape((3,3))\n",
    "    return H/np.linalg.norm(H)\n"
   ]
  },
  {
   "cell_type": "markdown",
   "metadata": {},
   "source": [
    "Define a function to get the homography for each view."
   ]
  },
  {
   "cell_type": "code",
   "execution_count": 10,
   "metadata": {},
   "outputs": [],
   "source": [
    "def get_homographies(views):\n",
    "    homographies = []\n",
    "    for view in views:\n",
    "        # Get src points (tag)\n",
    "        pts_src = []\n",
    "        for p in view['p']:\n",
    "            pts_src.append(np.append(p[:-1], [1.]))\n",
    "        pts_src = np.array(pts_src)\n",
    "\n",
    "        # Get dst points (img)\n",
    "        pts_dst = []\n",
    "        for q in view['q']:\n",
    "            pts_dst.append(np.append(q, [1.]))\n",
    "        pts_dst = np.array(pts_dst)\n",
    "\n",
    "        # Get homography\n",
    "        homographies.append(get_homography(pts_src, pts_dst))\n",
    "\n",
    "    return np.array(homographies)"
   ]
  },
  {
   "cell_type": "markdown",
   "metadata": {},
   "source": [
    "Define a function to get the intrinsic parameters (i.e., the intrinsic camera matrix $K$), given homographies."
   ]
  },
  {
   "cell_type": "code",
   "execution_count": 11,
   "metadata": {},
   "outputs": [],
   "source": [
    "def get_m(a, c):\n",
    "    assert(a.shape == (3,))\n",
    "    assert(c.shape == (3,))\n",
    "    a1, a2, a3 = a\n",
    "    c1, c2, c3 = c\n",
    "    m  = np.array([a1*c1, a2*c2, a3*c3, a1*c2+a2*c1, a2*c3+a3*c2, a3*c1+a1*c3])\n",
    "    return m"
   ]
  },
  {
   "cell_type": "code",
   "execution_count": 12,
   "metadata": {},
   "outputs": [],
   "source": [
    "def get_intrinsic_parameters(homographies):\n",
    "    M = []\n",
    "    n = len(homographies)\n",
    "    for i in range(n):\n",
    "        h1 = homographies[i][:,0]\n",
    "        h2 = homographies[i][:,1]\n",
    "        h3 = homographies[i][:,2]\n",
    "\n",
    "        Mn = np.array([get_m(h1, h2), get_m(h1, h1) - get_m(h2, h2)])\n",
    "        M.append(Mn)\n",
    "        \n",
    "    M = np.array(M).reshape((2*n, 6))\n",
    "\n",
    "    U, S, VT = np.linalg.svd(M)\n",
    "    b1, b2, b3, b4, b5, b6 = VT[-1]\n",
    "\n",
    "    B = np.array([[b1, b4, b6],\n",
    "                  [b4, b2, b5],\n",
    "                  [b6, b5, b3]])\n",
    "    assert(np.allclose(B, B.T))\n",
    "\n",
    "    A = np.linalg.cholesky(B).T\n",
    "    K = np.linalg.inv(A)\n",
    "   \n",
    "    return K/K[-1,-1]\n"
   ]
  },
  {
   "cell_type": "markdown",
   "metadata": {},
   "source": [
    "Define a function to get the extrinsic parameters (i.e., the camera pose for each view), given homographies and intrinsic parameters."
   ]
  },
  {
   "cell_type": "code",
   "execution_count": 13,
   "metadata": {},
   "outputs": [],
   "source": [
    "def get_extrinsic_parameters(homographies, K):\n",
    "    K_inv = np.linalg.inv(K)\n",
    "    n = len(homographies)\n",
    "    poses = []\n",
    "\n",
    "    for i in range(n):\n",
    "        h1 = homographies[i][:,0]\n",
    "        h2 = homographies[i][:,1]\n",
    "        h3 = homographies[i][:,2]\n",
    "        s = 1/np.linalg.norm(K_inv@h1)\n",
    "        x_inC_ofW = s*K_inv@h1\n",
    "        y_inC_ofW = s*K_inv@h2\n",
    "        z_inC_ofW = skew(x_inC_ofW)@y_inC_ofW\n",
    "        Q = np.vstack((x_inC_ofW, y_inC_ofW, z_inC_ofW)).T\n",
    "\n",
    "        U, S, VT = np.linalg.svd(Q)\n",
    "        R_inC_ofW = U@VT\n",
    "        p_inC_ofW = s*K_inv@h3\n",
    "\n",
    "        T_inC_ofW=  np.row_stack([\n",
    "            np.column_stack([R_inC_ofW, p_inC_ofW]),\n",
    "            np.array([0., 0., 0., 1.]),])\n",
    "        poses.append(T_inC_ofW)\n",
    "    return np.array(poses)"
   ]
  },
  {
   "cell_type": "markdown",
   "metadata": {},
   "source": [
    "Apply code to perform intrinsic and extrinsic calibration."
   ]
  },
  {
   "cell_type": "code",
   "execution_count": 14,
   "metadata": {},
   "outputs": [],
   "source": [
    "homographies = get_homographies(views)\n",
    "K = get_intrinsic_parameters(homographies)\n",
    "poses = get_extrinsic_parameters(homographies, K)"
   ]
  },
  {
   "cell_type": "markdown",
   "metadata": {},
   "source": [
    "Show results."
   ]
  },
  {
   "cell_type": "code",
   "execution_count": 15,
   "metadata": {},
   "outputs": [
    {
     "name": "stdout",
     "output_type": "stream",
     "text": [
      "K\n",
      "[[ 4218.2491     2.2201  1593.6232]\n",
      " [    0.0000  4224.9318  2032.7124]\n",
      " [    0.0000     0.0000     1.0000]]\n",
      "\n",
      "Camera pose for image 20240216_143519.jpg\n",
      "[[   -0.0170    -0.9998     0.0053     0.0710]\n",
      " [   -0.9945     0.0164    -0.1033     0.1071]\n",
      " [    0.1032    -0.0070    -0.9946    -0.2940]\n",
      " [    0.0000     0.0000     0.0000     1.0000]]\n",
      "\n",
      "Camera pose for image 20240213_121702.jpg\n",
      "[[   -0.0057    -0.9978     0.0665     0.0792]\n",
      " [   -1.0000     0.0056    -0.0011     0.1187]\n",
      " [    0.0008    -0.0665    -0.9978    -0.2842]\n",
      " [    0.0000     0.0000     0.0000     1.0000]]\n",
      "\n",
      "Camera pose for image 20240213_121701.jpg\n",
      "[[   -0.0087    -0.9953     0.0968     0.0862]\n",
      " [   -1.0000     0.0090     0.0022     0.1176]\n",
      " [   -0.0030    -0.0967    -0.9953    -0.2821]\n",
      " [    0.0000     0.0000     0.0000     1.0000]]\n",
      "\n",
      "Camera pose for image 20240213_121704.jpg\n",
      "[[   -0.0023    -0.9997     0.0257     0.0692]\n",
      " [   -0.9984     0.0038     0.0564     0.1218]\n",
      " [   -0.0564    -0.0255    -0.9981    -0.2729]\n",
      " [    0.0000     0.0000     0.0000     1.0000]]\n",
      "\n",
      "Camera pose for image 20240213_121700.jpg\n",
      "[[   -0.0066    -0.9989     0.0469     0.0765]\n",
      " [   -1.0000     0.0066    -0.0012     0.1158]\n",
      " [    0.0009    -0.0469    -0.9989    -0.2851]\n",
      " [    0.0000     0.0000     0.0000     1.0000]]\n",
      "\n",
      "Camera pose for image 20240216_143510.jpg\n",
      "[[   -0.0014    -0.9999     0.0146     0.0712]\n",
      " [   -0.9988     0.0007    -0.0497     0.1166]\n",
      " [    0.0497    -0.0147    -0.9987    -0.2779]\n",
      " [    0.0000     0.0000     0.0000     1.0000]]\n",
      "\n",
      "Camera pose for image 20240216_143550.jpg\n",
      "[[   -0.0570    -0.9983    -0.0149     0.0831]\n",
      " [   -0.9968     0.0577    -0.0558     0.1167]\n",
      " [    0.0565     0.0117    -0.9983    -0.2881]\n",
      " [    0.0000     0.0000     0.0000     1.0000]]\n",
      "\n",
      "Camera pose for image 20240213_121655.jpg\n",
      "[[    0.0010    -0.9989     0.0461     0.0764]\n",
      " [   -0.9931     0.0044     0.1171     0.1212]\n",
      " [   -0.1172    -0.0459    -0.9921    -0.2744]\n",
      " [    0.0000     0.0000     0.0000     1.0000]]\n",
      "\n",
      "Camera pose for image 20240213_121703.png\n",
      "[[   -0.0097    -0.9997     0.0224     0.0694]\n",
      " [   -0.9999     0.0095    -0.0078     0.1167]\n",
      " [    0.0076    -0.0224    -0.9997    -0.2879]\n",
      " [    0.0000     0.0000     0.0000     1.0000]]\n",
      "\n",
      "Camera pose for image 20240213_121658.png\n",
      "[[    0.0003    -0.9987     0.0516     0.0745]\n",
      " [   -0.9976    -0.0039    -0.0692     0.1114]\n",
      " [    0.0693    -0.0515    -0.9963    -0.2918]\n",
      " [    0.0000     0.0000     0.0000     1.0000]]\n",
      "\n",
      "Camera pose for image 20240213_121701.png\n",
      "[[   -0.0087    -0.9953     0.0968     0.0862]\n",
      " [   -1.0000     0.0090     0.0022     0.1176]\n",
      " [   -0.0030    -0.0968    -0.9953    -0.2821]\n",
      " [    0.0000     0.0000     0.0000     1.0000]]\n",
      "\n",
      "Camera pose for image 20240216_143547.jpg\n",
      "[[   -0.0057    -0.9993     0.0375     0.0761]\n",
      " [   -0.9971     0.0028    -0.0763     0.1186]\n",
      " [    0.0761    -0.0379    -0.9964    -0.2893]\n",
      " [    0.0000     0.0000     0.0000     1.0000]]\n",
      "\n",
      "Camera pose for image 20240213_121702.png\n",
      "[[   -0.0057    -0.9978     0.0665     0.0792]\n",
      " [   -1.0000     0.0056    -0.0011     0.1187]\n",
      " [    0.0008    -0.0665    -0.9978    -0.2842]\n",
      " [    0.0000     0.0000     0.0000     1.0000]]\n",
      "\n",
      "Camera pose for image 20240213_121658.jpg\n",
      "[[    0.0003    -0.9987     0.0516     0.0745]\n",
      " [   -0.9976    -0.0039    -0.0692     0.1114]\n",
      " [    0.0693    -0.0515    -0.9963    -0.2918]\n",
      " [    0.0000     0.0000     0.0000     1.0000]]\n",
      "\n",
      "Camera pose for image 20240213_121703.jpg\n",
      "[[   -0.0097    -0.9997     0.0224     0.0694]\n",
      " [   -0.9999     0.0095    -0.0078     0.1167]\n",
      " [    0.0076    -0.0224    -0.9997    -0.2879]\n",
      " [    0.0000     0.0000     0.0000     1.0000]]\n",
      "\n",
      "Camera pose for image 20240216_143555.jpg\n",
      "[[   -0.0243    -0.9957     0.0892     0.0822]\n",
      " [   -0.9997     0.0233    -0.0115     0.1208]\n",
      " [    0.0093    -0.0894    -0.9959    -0.2906]\n",
      " [    0.0000     0.0000     0.0000     1.0000]]\n",
      "\n",
      "Camera pose for image 20240213_121704.png\n",
      "[[   -0.0023    -0.9997     0.0257     0.0692]\n",
      " [   -0.9984     0.0038     0.0564     0.1218]\n",
      " [   -0.0564    -0.0255    -0.9981    -0.2729]\n",
      " [    0.0000     0.0000     0.0000     1.0000]]\n",
      "\n",
      "Camera pose for image 20240216_143515.jpg\n",
      "[[    0.0064    -0.9990     0.0446     0.0733]\n",
      " [   -0.9997    -0.0074    -0.0217     0.1225]\n",
      " [    0.0220    -0.0444    -0.9988    -0.2711]\n",
      " [    0.0000     0.0000     0.0000     1.0000]]\n",
      "\n",
      "Camera pose for image 20240216_143517.jpg\n",
      "[[   -0.0046    -0.9967     0.0811     0.0825]\n",
      " [   -0.9966    -0.0021    -0.0821     0.1105]\n",
      " [    0.0820    -0.0813    -0.9933    -0.2854]\n",
      " [    0.0000     0.0000     0.0000     1.0000]]\n",
      "\n",
      "Camera pose for image 20240213_212553.jpg\n",
      "[[   -0.0119    -0.9999     0.0073     0.0647]\n",
      " [   -0.9982     0.0114    -0.0583     0.1167]\n",
      " [    0.0582    -0.0080    -0.9983     0.3041]\n",
      " [    0.0000     0.0000     0.0000     1.0000]]\n",
      "\n",
      "Camera pose for image 20240216_143600.jpg\n",
      "[[    0.0029    -0.9994    -0.0345     0.0685]\n",
      " [   -0.9992    -0.0015    -0.0396     0.1236]\n",
      " [    0.0395     0.0346    -0.9986    -0.2900]\n",
      " [    0.0000     0.0000     0.0000     1.0000]]\n",
      "\n",
      "Camera pose for image 20240216_143508.jpg\n",
      "[[    0.0034    -0.9998     0.0171     0.0717]\n",
      " [   -0.9991    -0.0041    -0.0418     0.1167]\n",
      " [    0.0419    -0.0169    -0.9990    -0.2795]\n",
      " [    0.0000     0.0000     0.0000     1.0000]]\n",
      "\n",
      "Camera pose for image 20240213_121700.png\n",
      "[[   -0.0066    -0.9989     0.0469     0.0765]\n",
      " [   -1.0000     0.0066    -0.0012     0.1158]\n",
      " [    0.0009    -0.0469    -0.9989    -0.2851]\n",
      " [    0.0000     0.0000     0.0000     1.0000]]\n",
      "\n"
     ]
    }
   ],
   "source": [
    "with np.printoptions(linewidth=150, formatter={'float': lambda x: f'{x:10.4f}'}):\n",
    "    print('K')\n",
    "    print(K)\n",
    "    print('')\n",
    "\n",
    "for view, pose in zip(views, poses):\n",
    "    with np.printoptions(linewidth=150, formatter={'float': lambda x: f'{x:10.4f}'}):\n",
    "        print(f'Camera pose for image {view[\"image_name\"]}')\n",
    "        print(pose)\n",
    "        print('')"
   ]
  },
  {
   "cell_type": "markdown",
   "metadata": {},
   "source": [
    "# Estimate intrinsic and extrinsic parameters by optimization"
   ]
  },
  {
   "cell_type": "markdown",
   "metadata": {},
   "source": [
    "Write a symbolic function that projects a point into the image."
   ]
  },
  {
   "cell_type": "code",
   "execution_count": 16,
   "metadata": {},
   "outputs": [],
   "source": [
    "def projection(\n",
    "    T: sf.Pose3,\n",
    "    p: sf.V3,\n",
    "    fx: sf.Scalar,\n",
    "    fy: sf.Scalar,\n",
    "    cx: sf.Scalar,\n",
    "    cy: sf.Scalar,\n",
    "    epsilon: sf.Scalar,\n",
    ") -> sf.V2:\n",
    "    return sf.V2((T*p)[0]*fx/(T*p)[2] + cx, (T*p)[1]*fy/(T*p)[2] + cy)"
   ]
  },
  {
   "cell_type": "markdown",
   "metadata": {},
   "source": [
    "Write a symbolic function that computes the difference between a projected point and an image point."
   ]
  },
  {
   "cell_type": "code",
   "execution_count": 17,
   "metadata": {},
   "outputs": [],
   "source": [
    "def projection_residual(\n",
    "    T: sf.Pose3,\n",
    "    p: sf.V3,\n",
    "    q: sf.V2,\n",
    "    fx: sf.Scalar,\n",
    "    fy: sf.Scalar,\n",
    "    cx: sf.Scalar,\n",
    "    cy: sf.Scalar,\n",
    "    epsilon: sf.Scalar,  \n",
    ") -> sf.V2:\n",
    "    return sf.V2([q[0] - ((T*p)[0]*fx/(T*p)[2] + cx), q[1] - ((T*p)[1]*fy/(T*p)[2] + cy)])"
   ]
  },
  {
   "cell_type": "markdown",
   "metadata": {},
   "source": [
    "Lambdify these two functions so they can be evaluated numerically."
   ]
  },
  {
   "cell_type": "code",
   "execution_count": 18,
   "metadata": {},
   "outputs": [],
   "source": [
    "projection_num = symforce.util.lambdify(projection)\n",
    "projection_residual_num = symforce.util.lambdify(projection_residual)"
   ]
  },
  {
   "cell_type": "markdown",
   "metadata": {},
   "source": [
    "Create initial values for optimization."
   ]
  },
  {
   "cell_type": "code",
   "execution_count": 19,
   "metadata": {},
   "outputs": [],
   "source": [
    "initial_values = Values(\n",
    "    views=[],               # <-- fill this list with initial values specific to each view\n",
    "    fx=K[0, 0],             # <-- initial guess at fx\n",
    "    fy=K[1, 1],             # <-- initial guess at fy\n",
    "    cx=K[0, 2],             # <-- initial guess at cx\n",
    "    cy=K[1, 2],             # <-- initial guess at cy\n",
    "    epsilon=sym.epsilon,    # <-- constant parameter required by symforce\n",
    ")\n",
    "\n",
    "# Iterate over each view (along with each camera pose estimate)\n",
    "for view, pose in zip(views, poses):\n",
    "    view_values = Values(\n",
    "        T=sym.Pose3(        # <-- initial guess at camera pose\n",
    "            R=sym.Rot3.from_rotation_matrix(pose[0:3, 0:3]),\n",
    "            t=pose[0:3, 3],\n",
    "        ),\n",
    "        matches=[],         # <-- fill this list with initial values specific to each match\n",
    "    )\n",
    "\n",
    "    # Iterate over each match (i.e., each point correspondence)\n",
    "    for p, q in zip(view['p'], view['q']):\n",
    "        view_values['matches'].append(Values(p=np.array(p), q=np.array(q)))\n",
    "    \n",
    "    # Append the initial values we just created to the list of views\n",
    "    initial_values['views'].append(view_values)"
   ]
  },
  {
   "cell_type": "markdown",
   "metadata": {},
   "source": [
    "Create factors for optimization."
   ]
  },
  {
   "cell_type": "code",
   "execution_count": 20,
   "metadata": {},
   "outputs": [],
   "source": [
    "factors = []\n",
    "for i_view, view in enumerate(initial_values['views']):\n",
    "    for i_match, match in enumerate(view['matches']):\n",
    "        factors.append(Factor(\n",
    "            residual=projection_residual,\n",
    "            keys=[\n",
    "                f'views[{i_view}].T',\n",
    "                f'views[{i_view}].matches[{i_match}].p',\n",
    "                f'views[{i_view}].matches[{i_match}].q',\n",
    "                'fx',\n",
    "                'fy',\n",
    "                'cx',\n",
    "                'cy',\n",
    "                'epsilon',\n",
    "            ]\n",
    "        ))"
   ]
  },
  {
   "cell_type": "markdown",
   "metadata": {},
   "source": [
    "Create optimizer."
   ]
  },
  {
   "cell_type": "code",
   "execution_count": 21,
   "metadata": {},
   "outputs": [],
   "source": [
    "optimized_keys = ['fx', 'fy', 'cx', 'cy',]\n",
    "for i_view, view in enumerate(initial_values['views']):\n",
    "    optimized_keys.append(f'views[{i_view}].T')\n",
    "optimizer = Optimizer(\n",
    "    factors=factors,\n",
    "    optimized_keys=optimized_keys,\n",
    "    debug_stats=True,\n",
    "    params=Optimizer.Params(\n",
    "        iterations=100,\n",
    "    ),\n",
    ")"
   ]
  },
  {
   "cell_type": "markdown",
   "metadata": {},
   "source": [
    "Run optimizer."
   ]
  },
  {
   "cell_type": "code",
   "execution_count": 22,
   "metadata": {},
   "outputs": [
    {
     "name": "stdout",
     "output_type": "stream",
     "text": [
      "[2024-04-03 17:15:10.761] [info] LM<sym::Optimize> [iter    0] lambda: 1.000e+00, error prev/linear/new: 35456.128/0.000/30095.088, rel reduction: 0.15120\n",
      "[2024-04-03 17:15:13.496] [info] LM<sym::Optimize> [iter    1] lambda: 2.500e-01, error prev/linear/new: 30095.087/0.000/30069.744, rel reduction: 0.00084\n",
      "[2024-04-03 17:15:16.169] [info] LM<sym::Optimize> [iter    2] lambda: 6.250e-02, error prev/linear/new: 30069.745/0.000/30058.354, rel reduction: 0.00038\n",
      "[2024-04-03 17:15:18.735] [info] LM<sym::Optimize> [iter    3] lambda: 1.562e-02, error prev/linear/new: 30058.353/0.000/30040.008, rel reduction: 0.00061\n",
      "[2024-04-03 17:15:21.429] [info] LM<sym::Optimize> [iter    4] lambda: 3.906e-03, error prev/linear/new: 30040.007/0.000/29986.391, rel reduction: 0.00178\n",
      "[2024-04-03 17:15:24.067] [info] LM<sym::Optimize> [iter    5] lambda: 9.766e-04, error prev/linear/new: 29986.390/0.000/29901.307, rel reduction: 0.00284\n",
      "[2024-04-03 17:15:26.901] [info] LM<sym::Optimize> [iter    6] lambda: 2.441e-04, error prev/linear/new: 29901.306/0.000/29860.285, rel reduction: 0.00137\n",
      "[2024-04-03 17:15:29.542] [info] LM<sym::Optimize> [iter    7] lambda: 6.104e-05, error prev/linear/new: 29860.286/0.000/29855.809, rel reduction: 0.00015\n",
      "[2024-04-03 17:15:32.226] [info] LM<sym::Optimize> [iter    8] lambda: 1.526e-05, error prev/linear/new: 29855.809/0.000/29855.703, rel reduction: 0.00000\n",
      "[2024-04-03 17:15:35.227] [info] LM<sym::Optimize> [iter    9] lambda: 3.815e-06, error prev/linear/new: 29855.703/0.000/29855.701, rel reduction: 0.00000\n"
     ]
    }
   ],
   "source": [
    "result = optimizer.optimize(initial_values)\n",
    "assert(result.status == Optimizer.Status.SUCCESS)"
   ]
  },
  {
   "cell_type": "markdown",
   "metadata": {},
   "source": [
    "# Visualize results"
   ]
  },
  {
   "cell_type": "markdown",
   "metadata": {},
   "source": [
    "Show sum-squared error."
   ]
  },
  {
   "cell_type": "code",
   "execution_count": 23,
   "metadata": {},
   "outputs": [
    {
     "name": "stdout",
     "output_type": "stream",
     "text": [
      "Sum-squared error (halved), before optimization: 35456.1 pixels\n",
      "Sum-squared error (halved), after optimization: 29855.7 pixels\n"
     ]
    }
   ],
   "source": [
    "# Compute all errors before optimization\n",
    "initial_errors = []\n",
    "for view in result.initial_values['views']:\n",
    "    for match in view['matches']:\n",
    "        initial_errors.append(np.linalg.norm(projection_residual_num(\n",
    "            view['T'],\n",
    "            match['p'],\n",
    "            match['q'],\n",
    "            result.initial_values['fx'],\n",
    "            result.initial_values['fy'],\n",
    "            result.initial_values['cx'],\n",
    "            result.initial_values['cy'],\n",
    "            result.initial_values['epsilon'],\n",
    "        )))\n",
    "initial_errors = np.array(initial_errors)\n",
    "\n",
    "# Compute all errors after optimization\n",
    "final_errors = []\n",
    "for view in result.optimized_values['views']:\n",
    "    for match in view['matches']:\n",
    "        final_errors.append(np.linalg.norm(projection_residual_num(\n",
    "            view['T'],\n",
    "            match['p'],\n",
    "            match['q'],\n",
    "            result.optimized_values['fx'],\n",
    "            result.optimized_values['fy'],\n",
    "            result.optimized_values['cx'],\n",
    "            result.optimized_values['cy'],\n",
    "            result.optimized_values['epsilon'],\n",
    "        )))\n",
    "final_errors = np.array(final_errors)\n",
    "\n",
    "# Compute sum-squared errors\n",
    "print(f'Sum-squared error (halved), before optimization: {0.5 * np.sum(initial_errors**2):.1f} pixels')\n",
    "print(f'Sum-squared error (halved), after optimization: {0.5 * np.sum(final_errors**2):.1f} pixels')\n",
    "assert(np.isclose(0.5 * np.sum(final_errors**2), result.error()))"
   ]
  },
  {
   "cell_type": "markdown",
   "metadata": {},
   "source": [
    "Show error histogram."
   ]
  },
  {
   "cell_type": "code",
   "execution_count": 24,
   "metadata": {},
   "outputs": [
    {
     "data": {
      "image/png": "[encoded data removed]",
      "text/plain": [
       "<Figure size 640x480 with 1 Axes>"
      ]
     },
     "metadata": {},
     "output_type": "display_data"
    }
   ],
   "source": [
    "fig, ax = plt.subplots(1, 1)\n",
    "ax.hist(initial_errors, alpha=0.5, label='before optimization')\n",
    "ax.hist(final_errors, alpha=0.5, label='after optimization')\n",
    "ax.legend()\n",
    "ax.set_xlabel('error (pixels)')\n",
    "ax.set_ylabel('count')\n",
    "plt.show()"
   ]
  },
  {
   "cell_type": "markdown",
   "metadata": {},
   "source": [
    "Save annotated images to show match (hopefully) between given and projected image points."
   ]
  },
  {
   "cell_type": "code",
   "execution_count": 25,
   "metadata": {},
   "outputs": [
    {
     "name": "stdout",
     "output_type": "stream",
     "text": [
      "data/calibration_images/20240216_143519.jpg -> data/calibration_results/20240216_143519.jpg\n",
      "data/calibration_images/20240213_121702.jpg -> data/calibration_results/20240213_121702.jpg\n",
      "data/calibration_images/20240213_121701.jpg -> data/calibration_results/20240213_121701.jpg\n",
      "data/calibration_images/20240213_121704.jpg -> data/calibration_results/20240213_121704.jpg\n",
      "data/calibration_images/20240213_121700.jpg -> data/calibration_results/20240213_121700.jpg\n",
      "data/calibration_images/20240216_143510.jpg -> data/calibration_results/20240216_143510.jpg\n",
      "data/calibration_images/20240216_143550.jpg -> data/calibration_results/20240216_143550.jpg\n",
      "data/calibration_images/20240213_121655.jpg -> data/calibration_results/20240213_121655.jpg\n",
      "data/calibration_images/20240213_121703.png -> data/calibration_results/20240213_121703.png\n",
      "data/calibration_images/20240213_121658.png -> data/calibration_results/20240213_121658.png\n",
      "data/calibration_images/20240213_121701.png -> data/calibration_results/20240213_121701.png\n",
      "data/calibration_images/20240216_143547.jpg -> data/calibration_results/20240216_143547.jpg\n",
      "data/calibration_images/20240213_121702.png -> data/calibration_results/20240213_121702.png\n",
      "data/calibration_images/20240213_121658.jpg -> data/calibration_results/20240213_121658.jpg\n",
      "data/calibration_images/20240213_121703.jpg -> data/calibration_results/20240213_121703.jpg\n",
      "data/calibration_images/20240216_143555.jpg -> data/calibration_results/20240216_143555.jpg\n",
      "data/calibration_images/20240213_121704.png -> data/calibration_results/20240213_121704.png\n",
      "data/calibration_images/20240216_143515.jpg -> data/calibration_results/20240216_143515.jpg\n",
      "data/calibration_images/20240216_143517.jpg -> data/calibration_results/20240216_143517.jpg\n",
      "data/calibration_images/20240213_212553.jpg -> data/calibration_results/20240213_212553.jpg\n",
      "data/calibration_images/20240216_143600.jpg -> data/calibration_results/20240216_143600.jpg\n",
      "data/calibration_images/20240216_143508.jpg -> data/calibration_results/20240216_143508.jpg\n",
      "data/calibration_images/20240213_121700.png -> data/calibration_results/20240213_121700.png\n"
     ]
    }
   ],
   "source": [
    "# Choose parameters for annotation\n",
    "text_offset = 10\n",
    "mark_radius = 10\n",
    "text_scale = 1\n",
    "text_thickness = 3\n",
    "text_font = cv2.FONT_HERSHEY_SIMPLEX\n",
    "text_linetype = cv2.LINE_AA\n",
    "\n",
    "# Iterate over all views\n",
    "for view_data, view_initial, view_final in zip(views, result.initial_values['views'], result.optimized_values['views']):\n",
    "    # Image paths\n",
    "    img_src_path = Path(img_src_dir, view_data['image_name'])\n",
    "    img_dst_path = Path(img_dst_dir, view_data['image_name'])\n",
    "    print(f'{img_src_path} -> {img_dst_path}')\n",
    "\n",
    "    # Read image as BGR\n",
    "    img = cv2.imread(str(img_src_path))\n",
    "    \n",
    "    # Add annotations to image\n",
    "    for i_match, match in enumerate(view_final['matches']):\n",
    "        # Get the image point that was given\n",
    "        q = match['q']\n",
    "        \n",
    "        # Get the image point that was computed by projection (before optimization)\n",
    "        q_initial = projection_num(\n",
    "            view_initial['T'],\n",
    "            match['p'],\n",
    "            result.initial_values['fx'],\n",
    "            result.initial_values['fy'],\n",
    "            result.initial_values['cx'],\n",
    "            result.initial_values['cy'],\n",
    "            result.initial_values['epsilon'],\n",
    "        )\n",
    "\n",
    "        # Get the image point that was computed by projection (after optimization)\n",
    "        q_final = projection_num(\n",
    "            view_final['T'],\n",
    "            match['p'],\n",
    "            result.optimized_values['fx'],\n",
    "            result.optimized_values['fy'],\n",
    "            result.optimized_values['cx'],\n",
    "            result.optimized_values['cy'],\n",
    "            result.optimized_values['epsilon'],\n",
    "        )\n",
    "\n",
    "        # Mark and number the image point that was given\n",
    "        cv2.circle(\n",
    "            img,\n",
    "            (int(q[0]), int(q[1])),\n",
    "            2 * mark_radius,\n",
    "            (0, 0, 255),\n",
    "            -1,\n",
    "        )\n",
    "        cv2.putText(\n",
    "            img,\n",
    "            f'{i_match}',\n",
    "            (int(q[0]) + text_offset, int(q[1]) + 4 * text_offset),\n",
    "            text_font,\n",
    "            text_scale,\n",
    "            (0, 0, 255),\n",
    "            text_thickness,\n",
    "            text_linetype,\n",
    "        )\n",
    "        \n",
    "        # Mark and number the image point that was computed by projection (before optimization)\n",
    "        cv2.circle(\n",
    "            img,\n",
    "            (int(q_initial[0]), int(q_initial[1])),\n",
    "            int(1.5 * mark_radius),\n",
    "            (0, 255, 0),\n",
    "            -1,\n",
    "        )\n",
    "        cv2.putText(\n",
    "            img,\n",
    "            f'{i_match}',\n",
    "            (int(q_initial[0]) - 4 * text_offset, int(q_initial[1]) - 2 * text_offset),\n",
    "            text_font,\n",
    "            text_scale,\n",
    "            (0, 255, 0),\n",
    "            text_thickness,\n",
    "            text_linetype,\n",
    "        )\n",
    "\n",
    "        # Mark and number the image point that was computed by projection (after optimization)\n",
    "        cv2.circle(\n",
    "            img,\n",
    "            (int(q_final[0]), int(q_final[1])),\n",
    "            mark_radius,\n",
    "            (255, 0, 0),\n",
    "            -1,\n",
    "        )\n",
    "        cv2.putText(\n",
    "            img,\n",
    "            f'{i_match}',\n",
    "            (int(q_final[0]) + text_offset, int(q_final[1]) - 2 * text_offset),\n",
    "            text_font,\n",
    "            text_scale,\n",
    "            (255, 0, 0),\n",
    "            text_thickness,\n",
    "            text_linetype,\n",
    "        )\n",
    "\n",
    "    cv2.imwrite(str(img_dst_path), img)"
   ]
  }
 ],
 "metadata": {
  "kernelspec": {
   "display_name": "sf-test",
   "language": "python",
   "name": "python3"
  },
  "language_info": {
   "codemirror_mode": {
    "name": "ipython",
    "version": 3
   },
   "file_extension": ".py",
   "mimetype": "text/x-python",
   "name": "python",
   "nbconvert_exporter": "python",
   "pygments_lexer": "ipython3",
   "version": "3.10.13"
  }
 },
 "nbformat": 4,
 "nbformat_minor": 2
}
